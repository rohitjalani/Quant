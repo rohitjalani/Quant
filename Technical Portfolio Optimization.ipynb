{
  "cells": [
    {
      "cell_type": "code",
      "source": [
        "!pip install pandas-datareader"
      ],
      "metadata": {
        "colab": {
          "base_uri": "https://localhost:8080/"
        },
        "id": "Wn4_ku4JbGYA",
        "outputId": "533479c9-9803-429d-eba2-02ffc401e85f"
      },
      "execution_count": null,
      "outputs": [
        {
          "output_type": "stream",
          "name": "stdout",
          "text": [
            "Looking in indexes: https://pypi.org/simple, https://us-python.pkg.dev/colab-wheels/public/simple/\n",
            "Requirement already satisfied: pandas-datareader in /usr/local/lib/python3.10/dist-packages (0.10.0)\n",
            "Requirement already satisfied: lxml in /usr/local/lib/python3.10/dist-packages (from pandas-datareader) (4.9.2)\n",
            "Requirement already satisfied: pandas>=0.23 in /usr/local/lib/python3.10/dist-packages (from pandas-datareader) (1.5.3)\n",
            "Requirement already satisfied: requests>=2.19.0 in /usr/local/lib/python3.10/dist-packages (from pandas-datareader) (2.27.1)\n",
            "Requirement already satisfied: python-dateutil>=2.8.1 in /usr/local/lib/python3.10/dist-packages (from pandas>=0.23->pandas-datareader) (2.8.2)\n",
            "Requirement already satisfied: pytz>=2020.1 in /usr/local/lib/python3.10/dist-packages (from pandas>=0.23->pandas-datareader) (2022.7.1)\n",
            "Requirement already satisfied: numpy>=1.21.0 in /usr/local/lib/python3.10/dist-packages (from pandas>=0.23->pandas-datareader) (1.22.4)\n",
            "Requirement already satisfied: urllib3<1.27,>=1.21.1 in /usr/local/lib/python3.10/dist-packages (from requests>=2.19.0->pandas-datareader) (1.26.15)\n",
            "Requirement already satisfied: certifi>=2017.4.17 in /usr/local/lib/python3.10/dist-packages (from requests>=2.19.0->pandas-datareader) (2022.12.7)\n",
            "Requirement already satisfied: charset-normalizer~=2.0.0 in /usr/local/lib/python3.10/dist-packages (from requests>=2.19.0->pandas-datareader) (2.0.12)\n",
            "Requirement already satisfied: idna<4,>=2.5 in /usr/local/lib/python3.10/dist-packages (from requests>=2.19.0->pandas-datareader) (3.4)\n",
            "Requirement already satisfied: six>=1.5 in /usr/local/lib/python3.10/dist-packages (from python-dateutil>=2.8.1->pandas>=0.23->pandas-datareader) (1.16.0)\n"
          ]
        }
      ]
    },
    {
      "cell_type": "code",
      "source": [
        "import pandas_datareader.data as web\n",
        "import datetime"
      ],
      "metadata": {
        "id": "qS5dTwXebHAK"
      },
      "execution_count": null,
      "outputs": []
    },
    {
      "cell_type": "code",
      "source": [
        "import yfinance as yf\n",
        "yf.pdr_override()\n",
        "from pandas_datareader import data as wb"
      ],
      "metadata": {
        "id": "m_bVop87XF4q"
      },
      "execution_count": null,
      "outputs": []
    },
    {
      "cell_type": "code",
      "source": [
        "import pandas as pd \n",
        "pd.set_option('display.max_columns', None)\n",
        "pd.set_option('display.max_rows', None)"
      ],
      "metadata": {
        "id": "f1D4cV7HbH4M"
      },
      "execution_count": null,
      "outputs": []
    },
    {
      "cell_type": "code",
      "source": [
        "# start = datetime.datetime(2019,9,15)\n",
        "# end = datetime.datetime(2021,9,15)"
      ],
      "metadata": {
        "id": "PISUgwgDbH8M"
      },
      "execution_count": null,
      "outputs": []
    },
    {
      "cell_type": "code",
      "source": [
        "!pip install PyPortfolioOpt"
      ],
      "metadata": {
        "id": "qqf70lM2bIW1"
      },
      "execution_count": null,
      "outputs": []
    },
    {
      "cell_type": "code",
      "source": [
        "def get_stock(ticker):\n",
        "    data = wb.DataReader(f\"{ticker}\",'2023-1-1')\n",
        "    data[f'{ticker}'] = data[\"Close\"]\n",
        "    data = data[[f'{ticker}']] \n",
        "    print(data.head())\n",
        "    return data "
      ],
      "metadata": {
        "id": "VAK6eYDjbIAL"
      },
      "execution_count": null,
      "outputs": []
    },
    {
      "cell_type": "code",
      "source": [
        "from functools import reduce\n",
        "\n",
        "def combine_stocks(tickers):\n",
        "    data_frames = []\n",
        "    for i in tickers:\n",
        "        data_frames.append(get_stock(i))\n",
        "        \n",
        "    df_merged = reduce(lambda  left,right: pd.merge(left,right,on=['Date'], how='outer'), data_frames)\n",
        "    print(df_merged.head())\n",
        "    return df_merged\n"
      ],
      "metadata": {
        "id": "Agi0_x-bbgeE"
      },
      "execution_count": null,
      "outputs": []
    },
    {
      "cell_type": "code",
      "source": [
        "stocks = [\"^N225\", \"^GDAXI\", \"^GSPC\", \"^NDX\", \n",
        "          \"000001.SS\",\"^SPGSCLP\", \"^SPGSGCP\", \"HYG\", \"TLT\", \n",
        "          \"XBT-USD\"]\n",
        "# stocks = [\"^N225\", \"^GDAXI\", \"^GSPC\", \"^NDX\", \n",
        "#           \"000001.SS\", \"HYG\", \"TLT\"]\n",
        "# stocks = [\"^N225\", \"^GDAXI\", \"^GSPC\", \"^NDX\", \n",
        "#           \"000001.SS\"]\n",
        "portfolio = combine_stocks(stocks)"
      ],
      "metadata": {
        "id": "kKJlu2ycbIF8",
        "colab": {
          "base_uri": "https://localhost:8080/"
        },
        "outputId": "f7aedd28-6949-467f-aba9-7f5c36bdcf8a"
      },
      "execution_count": null,
      "outputs": [
        {
          "output_type": "stream",
          "name": "stdout",
          "text": [
            "[*********************100%***********************]  1 of 1 completed\n",
            "                   ^N225\n",
            "Date                    \n",
            "2023-01-04  25716.859375\n",
            "2023-01-05  25820.800781\n",
            "2023-01-06  25973.849609\n",
            "2023-01-10  26175.560547\n",
            "2023-01-11  26446.000000\n",
            "[*********************100%***********************]  1 of 1 completed\n",
            "                  ^GDAXI\n",
            "Date                    \n",
            "2023-01-02  14069.259766\n",
            "2023-01-03  14181.669922\n",
            "2023-01-04  14490.780273\n",
            "2023-01-05  14436.309570\n",
            "2023-01-06  14610.019531\n",
            "[*********************100%***********************]  1 of 1 completed\n",
            "                  ^GSPC\n",
            "Date                   \n",
            "2023-01-03  3824.139893\n",
            "2023-01-04  3852.969971\n",
            "2023-01-05  3808.100098\n",
            "2023-01-06  3895.080078\n",
            "2023-01-09  3892.090088\n",
            "[*********************100%***********************]  1 of 1 completed\n",
            "                    ^NDX\n",
            "Date                    \n",
            "2023-01-03  10862.639648\n",
            "2023-01-04  10914.799805\n",
            "2023-01-05  10741.219727\n",
            "2023-01-06  11040.349609\n",
            "2023-01-09  11108.450195\n",
            "[*********************100%***********************]  1 of 1 completed\n",
            "              000001.SS\n",
            "Date                   \n",
            "2023-01-03  3116.510010\n",
            "2023-01-04  3123.520020\n",
            "2023-01-05  3155.219971\n",
            "2023-01-06  3157.639893\n",
            "2023-01-09  3176.080078\n",
            "[*********************100%***********************]  1 of 1 completed\n",
            "              ^SPGSCLP\n",
            "Date                  \n",
            "2023-05-18  129.831894\n",
            "[*********************100%***********************]  1 of 1 completed\n",
            "              ^SPGSGCP\n",
            "Date                  \n",
            "2023-05-18  138.330597\n",
            "[*********************100%***********************]  1 of 1 completed\n",
            "                  HYG\n",
            "Date                 \n",
            "2023-01-03  73.769997\n",
            "2023-01-04  74.620003\n",
            "2023-01-05  74.470001\n",
            "2023-01-06  75.529999\n",
            "2023-01-09  75.800003\n",
            "[*********************100%***********************]  1 of 1 completed\n",
            "                   TLT\n",
            "Date                  \n",
            "2023-01-03  101.459999\n",
            "2023-01-04  102.849998\n",
            "2023-01-05  103.279999\n",
            "2023-01-06  105.180000\n",
            "2023-01-09  105.739998\n",
            "[*********************100%***********************]  1 of 1 completed\n",
            "             XBT-USD\n",
            "Date                \n",
            "2023-01-01  0.011325\n",
            "2023-01-02  0.011326\n",
            "2023-01-03  0.011999\n",
            "2023-01-04  0.011327\n",
            "2023-01-05  0.011499\n",
            "                   ^N225        ^GDAXI        ^GSPC          ^NDX  \\\n",
            "Date                                                                \n",
            "2023-01-04  25716.859375  14490.780273  3852.969971  10914.799805   \n",
            "2023-01-05  25820.800781  14436.309570  3808.100098  10741.219727   \n",
            "2023-01-06  25973.849609  14610.019531  3895.080078  11040.349609   \n",
            "2023-01-10  26175.560547  14774.599609  3919.250000  11205.780273   \n",
            "2023-01-11  26446.000000  14947.910156  3969.610107  11402.519531   \n",
            "\n",
            "              000001.SS  ^SPGSCLP  ^SPGSGCP        HYG         TLT   XBT-USD  \n",
            "Date                                                                          \n",
            "2023-01-04  3123.520020       NaN       NaN  74.620003  102.849998  0.011327  \n",
            "2023-01-05  3155.219971       NaN       NaN  74.470001  103.279999  0.011499  \n",
            "2023-01-06  3157.639893       NaN       NaN  75.529999  105.180000  0.011326  \n",
            "2023-01-10  3169.510010       NaN       NaN  75.709999  103.989998  0.011329  \n",
            "2023-01-11  3161.840088       NaN       NaN  76.209999  105.680000  0.011498  \n"
          ]
        }
      ]
    },
    {
      "cell_type": "code",
      "source": [
        "portfolio.to_csv(\"portfolio.csv\", index=False)"
      ],
      "metadata": {
        "id": "aoG4orJobIPm"
      },
      "execution_count": null,
      "outputs": []
    },
    {
      "cell_type": "code",
      "source": [
        "portfolio = pd.read_csv(\"portfolio.csv\")"
      ],
      "metadata": {
        "id": "ct_oLDiubIS_"
      },
      "execution_count": null,
      "outputs": []
    },
    {
      "cell_type": "code",
      "source": [
        "from pypfopt.expected_returns import mean_historical_return\n",
        "from pypfopt.risk_models import CovarianceShrinkage\n",
        "\n",
        "\n",
        "mu = mean_historical_return(portfolio)\n",
        "S = CovarianceShrinkage(portfolio).ledoit_wolf()"
      ],
      "metadata": {
        "id": "DizL0o9UbIad"
      },
      "execution_count": null,
      "outputs": []
    },
    {
      "cell_type": "code",
      "source": [
        "from pypfopt.efficient_frontier import EfficientFrontier\n",
        "\n",
        "ef = EfficientFrontier(mu, S)\n",
        "weights = ef.max_sharpe()\n",
        "\n",
        "cleaned_weights = ef.clean_weights()\n",
        "print(dict(cleaned_weights))"
      ],
      "metadata": {
        "colab": {
          "base_uri": "https://localhost:8080/"
        },
        "id": "MaoQLpGNbqIJ",
        "outputId": "efb5d6a5-3c55-474e-b820-02c6177d2b9e"
      },
      "execution_count": null,
      "outputs": [
        {
          "output_type": "stream",
          "name": "stdout",
          "text": [
            "{'^N225': 0.79006, '^GDAXI': 0.06607, '^GSPC': 0.0, '^NDX': 0.12619, '000001.SS': 0.01037, '^SPGSCLP': 0.0, '^SPGSGCP': 0.0, 'HYG': 0.0, 'TLT': 0.0, 'XBT-USD': 0.00731}\n"
          ]
        }
      ]
    },
    {
      "cell_type": "code",
      "source": [
        "ef.portfolio_performance(verbose=True)"
      ],
      "metadata": {
        "colab": {
          "base_uri": "https://localhost:8080/"
        },
        "id": "zd3VYNpmbqMP",
        "outputId": "10dd2864-bd13-4ceb-bc57-20b3ee48bd98"
      },
      "execution_count": null,
      "outputs": [
        {
          "output_type": "stream",
          "name": "stdout",
          "text": [
            "Expected annual return: 36.6%\n",
            "Annual volatility: 12.3%\n",
            "Sharpe Ratio: 2.82\n"
          ]
        },
        {
          "output_type": "execute_result",
          "data": {
            "text/plain": [
              "(0.3655025165561391, 0.12272461280633837, 2.8152667069428707)"
            ]
          },
          "metadata": {},
          "execution_count": 75
        }
      ]
    },
    {
      "cell_type": "code",
      "source": [],
      "metadata": {
        "id": "qvjUeRRCbqRu"
      },
      "execution_count": null,
      "outputs": []
    },
    {
      "cell_type": "code",
      "source": [
        "from pypfopt import HRPOpt"
      ],
      "metadata": {
        "id": "k5hI0hvcbqWv"
      },
      "execution_count": null,
      "outputs": []
    },
    {
      "cell_type": "code",
      "source": [
        "returns = portfolio.pct_change().dropna()"
      ],
      "metadata": {
        "id": "WfVNSUL6dN18"
      },
      "execution_count": null,
      "outputs": []
    },
    {
      "cell_type": "code",
      "source": [
        "hrp = HRPOpt(returns)\n",
        "hrp_weights = hrp.optimize()"
      ],
      "metadata": {
        "id": "l516XyEvdN8z"
      },
      "execution_count": null,
      "outputs": []
    },
    {
      "cell_type": "code",
      "source": [
        "hrp.portfolio_performance(verbose=True)\n",
        "print(dict(hrp_weights))"
      ],
      "metadata": {
        "id": "Kh5sdh1UdOE5"
      },
      "execution_count": null,
      "outputs": []
    },
    {
      "cell_type": "code",
      "source": [],
      "metadata": {
        "id": "6u52mRNOdOL8"
      },
      "execution_count": null,
      "outputs": []
    },
    {
      "cell_type": "code",
      "source": [
        "from pypfopt.efficient_frontier import EfficientCVaR"
      ],
      "metadata": {
        "id": "aku9YxvmdOTd"
      },
      "execution_count": null,
      "outputs": []
    },
    {
      "cell_type": "code",
      "source": [
        "S = portfolio.cov()\n",
        "ef_cvar = EfficientCVaR(mu, S)\n",
        "cvar_weights = ef_cvar.min_cvar()\n",
        "\n",
        "cleaned_weights = ef_cvar.clean_weights()\n",
        "print(dict(cleaned_weights))"
      ],
      "metadata": {
        "id": "5Sq9X0G9h6KT"
      },
      "execution_count": null,
      "outputs": []
    },
    {
      "cell_type": "code",
      "source": [
        "from pypfopt.discrete_allocation import DiscreteAllocation, get_latest_prices"
      ],
      "metadata": {
        "id": "FEw_6kWREPUQ"
      },
      "execution_count": null,
      "outputs": []
    },
    {
      "cell_type": "code",
      "source": [
        "latest_prices = get_latest_prices(portfolio)\n",
        "\n",
        "da = DiscreteAllocation(weights, latest_prices, total_portfolio_value=100000)\n",
        "\n",
        "allocation, leftover = da.greedy_portfolio()"
      ],
      "metadata": {
        "id": "yzrddf3oEUdh"
      },
      "execution_count": null,
      "outputs": []
    },
    {
      "cell_type": "code",
      "source": [
        "da_cvar = DiscreteAllocation(cvar_weights, latest_prices, total_portfolio_value=100000)\n",
        "\n",
        "allocation, leftover = da_cvar.greedy_portfolio()\n",
        "print(\"Discrete allocation (CVAR):\", allocation)\n",
        "print(\"Funds remaining (CVAR): ${:.2f}\".format(leftover))"
      ],
      "metadata": {
        "colab": {
          "base_uri": "https://localhost:8080/"
        },
        "id": "UMIMnkF4h6n3",
        "outputId": "4eb5b6bd-f2d3-4086-a1bf-b3b79ca94377"
      },
      "execution_count": null,
      "outputs": [
        {
          "output_type": "stream",
          "name": "stdout",
          "text": [
            "Discrete allocation (CVAR): {'^NDX': 7, '^GSPC': 1, 'TLT': 1}\n",
            "Funds remaining (CVAR): $2944.95\n"
          ]
        },
        {
          "output_type": "stream",
          "name": "stderr",
          "text": [
            "/usr/local/lib/python3.10/dist-packages/pypfopt/discrete_allocation.py:212: RuntimeWarning: invalid value encountered in true_divide\n",
            "  current_weights /= current_weights.sum()\n"
          ]
        }
      ]
    },
    {
      "cell_type": "code",
      "source": [],
      "metadata": {
        "id": "aI1EqCL5h_jt"
      },
      "execution_count": null,
      "outputs": []
    }
  ],
  "metadata": {
    "colab": {
      "provenance": []
    },
    "kernelspec": {
      "display_name": "Python 3",
      "name": "python3"
    },
    "language_info": {
      "name": "python"
    }
  },
  "nbformat": 4,
  "nbformat_minor": 0
}
